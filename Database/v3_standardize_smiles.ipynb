{
 "cells": [
  {
   "cell_type": "code",
   "execution_count": 4,
   "metadata": {},
   "outputs": [
    {
     "name": "stderr",
     "output_type": "stream",
     "text": [
      "\n",
      "UPGRADE AVAILABLE\n",
      "\n",
      "A more recent version of the Synapse Client (1.9.0) is available. Your version (1.8.1) can be upgraded by typing:\n",
      "    pip install --upgrade synapseclient\n",
      "\n",
      "Python Synapse Client version 1.9.0 release notes\n",
      "\n",
      "https://python-docs.synapse.org/build/html/news.html\n",
      "\n"
     ]
    },
    {
     "name": "stdout",
     "output_type": "stream",
     "text": [
      "Welcome, Robert Allaway!\n",
      "\n"
     ]
    }
   ],
   "source": [
    "import molvs as molvs\n",
    "import pandas as pd\n",
    "import rdkit as rdkit\n",
    "import tqdm\n",
    "import synapseclient\n",
    "syn = synapseclient.Synapse()\n",
    "syn.login('allawayr','Warbler44')\n",
    "\n",
    "#struct = pd.read_csv('../Data/v2_table.csv')\n",
    "#struct_mini =  struct[['internal_id','smiles']]\n",
    "#struct_mini = struct_mini.drop_duplicates()\n",
    "\n",
    "struct_mini = syn.tableQuery(\"select distinct internal_id, smiles from syn17008823\").asDataFrame()\n",
    "\n",
    "smi_list = struct_mini['smiles'].tolist()\n",
    "\n",
    "from rdkit import Chem\n",
    "from rdkit.Chem.SaltRemover import SaltRemover\n",
    "remover = SaltRemover()\n",
    "\n",
    "from molvs import Standardizer\n",
    "s = Standardizer()\n",
    "\n",
    "\n"
   ]
  },
  {
   "cell_type": "code",
   "execution_count": 34,
   "metadata": {},
   "outputs": [],
   "source": [
    "def standardize_molecule(smiles):\n",
    "    mol = Chem.MolFromSmiles(smiles)\n",
    "    if mol!=None:\n",
    "        mol3 = s.standardize(mol)\n",
    "        smi = Chem.MolToSmiles(mol3)\n",
    "        inc = Chem.MolToInchi(mol3)\n",
    "        inckey = Chem.MolToInchiKey(mol3)\n",
    "        return smiles,smi,inc,inckey\n",
    "    else:\n",
    "        return \"NA\"\n"
   ]
  },
  {
   "cell_type": "code",
   "execution_count": null,
   "metadata": {},
   "outputs": [],
   "source": []
  },
  {
   "cell_type": "code",
   "execution_count": 35,
   "metadata": {},
   "outputs": [],
   "source": [
    "import multiprocessing\n",
    "pool = multiprocessing.Pool()\n",
    "result = pool.map(standardize_molecule, smi_list)"
   ]
  },
  {
   "cell_type": "code",
   "execution_count": 37,
   "metadata": {},
   "outputs": [],
   "source": [
    "import csv\n",
    "csvfile = \"standardized_structures.csv\"\n",
    "\n",
    "from pandas import DataFrame\n",
    "df = DataFrame.from_records(result, columns=['smiles','std_smiles', 'inchi', 'inchikey'])\n",
    "df.to_csv(csvfile, encoding='utf-8', index=False)\n"
   ]
  },
  {
   "cell_type": "code",
   "execution_count": null,
   "metadata": {},
   "outputs": [],
   "source": []
  }
 ],
 "metadata": {
  "kernel_info": {
   "name": "python3"
  },
  "kernelspec": {
   "display_name": "Python 3",
   "language": "python",
   "name": "python3"
  },
  "language_info": {
   "codemirror_mode": {
    "name": "ipython",
    "version": 3
   },
   "file_extension": ".py",
   "mimetype": "text/x-python",
   "name": "python",
   "nbconvert_exporter": "python",
   "pygments_lexer": "ipython3",
   "version": "3.7.0"
  }
 },
 "nbformat": 4,
 "nbformat_minor": 2
}
